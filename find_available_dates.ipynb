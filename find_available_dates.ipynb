{
 "cells": [
  {
   "cell_type": "code",
   "execution_count": null,
   "id": "86e5a787-c78e-40d9-8588-8f88a610bd41",
   "metadata": {
    "scrolled": true
   },
   "outputs": [],
   "source": [
    "!pip install copernicusmarine"
   ]
  },
  {
   "cell_type": "code",
   "execution_count": 1,
   "id": "b665368e-34e4-42d8-851d-ea8da549bce9",
   "metadata": {},
   "outputs": [
    {
     "name": "stdout",
     "output_type": "stream",
     "text": [
      "1.1.0\n"
     ]
    }
   ],
   "source": [
    "from pprint import pprint\n",
    "import xarray as xr\n",
    "import copernicusmarine as copernicusmarine\n",
    "import pandas as pd\n",
    "print(copernicusmarine.__version__)\n",
    "#only for the first time: \n",
    "#copernicusmarine.login() \n",
    "pd.set_option('display.max_colwidth', None)\n"
   ]
  },
  {
   "cell_type": "markdown",
   "id": "039aed3a-ce5e-4d2a-ae98-6780e60bec77",
   "metadata": {},
   "source": [
    "# Pb zarr file does not contains all the dates we needs. \n",
    "- find available netcd file list and see if thats covers more than the time range of available zarr "
   ]
  },
  {
   "cell_type": "code",
   "execution_count": 2,
   "id": "7320f930-e473-43d9-acbd-23a1d21eaf8e",
   "metadata": {},
   "outputs": [
    {
     "name": "stderr",
     "output_type": "stream",
     "text": [
      "Fetching catalog: 100%|██████████| 3/3 [00:16<00:00,  5.64s/it]\n"
     ]
    }
   ],
   "source": [
    "catalogue = copernicusmarine.describe(\n",
    "    include_datasets=True,\n",
    "#    contains = ['European North West Shelf - Ocean Physics '],\n",
    "#     contains = ['Atlantic-Iberian Biscay Irish- Ocean Physics']   \n",
    "#    contains = ['cmems_mod_nws_phy_anfc_0.027deg']\n",
    "contains=['cmems_mod_ibi_phy_anfc_0.027deg','cmems_mod_nws_phy_anfc_0.027deg']\n",
    "#\n",
    "#    contains=['Ocean Physics']\n",
    ")"
   ]
  },
  {
   "cell_type": "code",
   "execution_count": 3,
   "id": "a7edea6a-5be9-420a-9cfb-fefae0fb2321",
   "metadata": {
    "scrolled": true
   },
   "outputs": [
    {
     "name": "stdout",
     "output_type": "stream",
     "text": [
      "0 Atlantic-Iberian Biscay Irish- Ocean Physics Analysis and Forecast IBI_ANALYSISFORECAST_PHY_005_001\n",
      "dataset_id cmems_mod_ibi_phy_anfc_0.027deg-2D_PT15M-i {}\n",
      "versions['label'] 202211\n",
      "parts['name','retired-date'] default None\n",
      "      0 original-files https://s3.waw3-1.cloudferro.com/mdl-native-10/native/IBI_ANALYSISFORECAST_PHY_005_001/cmems_mod_ibi_phy_anfc_0.027deg-2D_PT15M-i_202211\n",
      "      1 arco-geo-series https://s3.waw3-1.cloudferro.com/mdl-arco-time-032/arco/IBI_ANALYSISFORECAST_PHY_005_001/cmems_mod_ibi_phy_anfc_0.027deg-2D_PT15M-i_202211/timeChunked.zarr\n",
      "      2 arco-time-series https://s3.waw3-1.cloudferro.com/mdl-arco-geo-032/arco/IBI_ANALYSISFORECAST_PHY_005_001/cmems_mod_ibi_phy_anfc_0.027deg-2D_PT15M-i_202211/geoChunked.zarr\n",
      "dataset_id cmems_mod_ibi_phy_anfc_0.027deg-2D_PT1H-m {}\n",
      "versions['label'] 202211\n",
      "parts['name','retired-date'] default None\n",
      "      0 original-files https://s3.waw3-1.cloudferro.com/mdl-native-10/native/IBI_ANALYSISFORECAST_PHY_005_001/cmems_mod_ibi_phy_anfc_0.027deg-2D_PT1H-m_202211\n",
      "      1 arco-geo-series https://s3.waw3-1.cloudferro.com/mdl-arco-time-032/arco/IBI_ANALYSISFORECAST_PHY_005_001/cmems_mod_ibi_phy_anfc_0.027deg-2D_PT1H-m_202211/timeChunked.zarr\n",
      "      2 arco-time-series https://s3.waw3-1.cloudferro.com/mdl-arco-geo-032/arco/IBI_ANALYSISFORECAST_PHY_005_001/cmems_mod_ibi_phy_anfc_0.027deg-2D_PT1H-m_202211/geoChunked.zarr\n",
      "dataset_id cmems_mod_ibi_phy_anfc_0.027deg-3D_P1D-m {}\n",
      "versions['label'] 202211\n",
      "parts['name','retired-date'] default None\n",
      "      0 original-files https://s3.waw3-1.cloudferro.com/mdl-native-10/native/IBI_ANALYSISFORECAST_PHY_005_001/cmems_mod_ibi_phy_anfc_0.027deg-3D_P1D-m_202211\n",
      "      1 arco-geo-series https://s3.waw3-1.cloudferro.com/mdl-arco-time-032/arco/IBI_ANALYSISFORECAST_PHY_005_001/cmems_mod_ibi_phy_anfc_0.027deg-3D_P1D-m_202211/timeChunked.zarr\n",
      "      2 arco-time-series https://s3.waw3-1.cloudferro.com/mdl-arco-geo-032/arco/IBI_ANALYSISFORECAST_PHY_005_001/cmems_mod_ibi_phy_anfc_0.027deg-3D_P1D-m_202211/geoChunked.zarr\n",
      "dataset_id cmems_mod_ibi_phy_anfc_0.027deg-3D_P1M-m {}\n",
      "versions['label'] 202211\n",
      "parts['name','retired-date'] default None\n",
      "      0 original-files https://s3.waw3-1.cloudferro.com/mdl-native-10/native/IBI_ANALYSISFORECAST_PHY_005_001/cmems_mod_ibi_phy_anfc_0.027deg-3D_P1M-m_202211\n",
      "      1 arco-geo-series https://s3.waw3-1.cloudferro.com/mdl-arco-time-032/arco/IBI_ANALYSISFORECAST_PHY_005_001/cmems_mod_ibi_phy_anfc_0.027deg-3D_P1M-m_202211/timeChunked.zarr\n",
      "      2 arco-time-series https://s3.waw3-1.cloudferro.com/mdl-arco-geo-032/arco/IBI_ANALYSISFORECAST_PHY_005_001/cmems_mod_ibi_phy_anfc_0.027deg-3D_P1M-m_202211/geoChunked.zarr\n",
      "dataset_id cmems_mod_ibi_phy_anfc_0.027deg-3D_PT1H-m {}\n",
      "versions['label'] 202211\n",
      "parts['name','retired-date'] default None\n",
      "      0 original-files https://s3.waw3-1.cloudferro.com/mdl-native-10/native/IBI_ANALYSISFORECAST_PHY_005_001/cmems_mod_ibi_phy_anfc_0.027deg-3D_PT1H-m_202211\n",
      "      1 arco-geo-series https://s3.waw3-1.cloudferro.com/mdl-arco-time-032/arco/IBI_ANALYSISFORECAST_PHY_005_001/cmems_mod_ibi_phy_anfc_0.027deg-3D_PT1H-m_202211/timeChunked.zarr\n",
      "      2 arco-time-series https://s3.waw3-1.cloudferro.com/mdl-arco-geo-032/arco/IBI_ANALYSISFORECAST_PHY_005_001/cmems_mod_ibi_phy_anfc_0.027deg-3D_PT1H-m_202211/geoChunked.zarr\n",
      "dataset_id cmems_mod_ibi_phy_anfc_0.027deg-3D_static {}\n",
      "versions['label'] 202211\n",
      "parts['name','retired-date'] bathy None\n",
      "      0 original-files https://s3.waw3-1.cloudferro.com/mdl-native-10/native/IBI_ANALYSISFORECAST_PHY_005_001/cmems_mod_ibi_phy_anfc_0.027deg-3D_static_202211/IBI-MFC_005_001_mask_bathy.nc\n",
      "      1 static-arco https://s3.waw3-1.cloudferro.com:443/mdl-arco-time-032/arco/IBI_ANALYSISFORECAST_PHY_005_001/cmems_mod_ibi_phy_anfc_0.027deg-3D_static_202211--ext--bathy/static.zarr\n",
      "parts['name','retired-date'] coords None\n",
      "      0 original-files https://s3.waw3-1.cloudferro.com/mdl-native-10/native/IBI_ANALYSISFORECAST_PHY_005_001/cmems_mod_ibi_phy_anfc_0.027deg-3D_static_202211/IBI-MFC_005_001_coordinates.nc\n",
      "      1 static-arco https://s3.waw3-1.cloudferro.com:443/mdl-arco-time-032/arco/IBI_ANALYSISFORECAST_PHY_005_001/cmems_mod_ibi_phy_anfc_0.027deg-3D_static_202211--ext--coords/static.zarr\n",
      "parts['name','retired-date'] mdt None\n",
      "      0 original-files https://s3.waw3-1.cloudferro.com/mdl-native-10/native/IBI_ANALYSISFORECAST_PHY_005_001/cmems_mod_ibi_phy_anfc_0.027deg-3D_static_202211/IBI-MFC_005_001_mdt.nc\n",
      "      1 static-arco https://s3.waw3-1.cloudferro.com:443/mdl-arco-time-032/arco/IBI_ANALYSISFORECAST_PHY_005_001/cmems_mod_ibi_phy_anfc_0.027deg-3D_static_202211--ext--mdt/static.zarr\n",
      "1 Atlantic - European North West Shelf - Ocean Physics Analysis and Forecast NWSHELF_ANALYSISFORECAST_PHY_004_013\n",
      "dataset_id cmems_mod_nws_phy_anfc_0.027deg-2D_PT15M-i {}\n",
      "versions['label'] 202309\n",
      "parts['name','retired-date'] default None\n",
      "      0 original-files https://s3.waw3-1.cloudferro.com/mdl-native-13/native/NWSHELF_ANALYSISFORECAST_PHY_004_013/cmems_mod_nws_phy_anfc_0.027deg-2D_PT15M-i_202309\n",
      "      1 arco-geo-series https://s3.waw3-1.cloudferro.com/mdl-arco-time-041/arco/NWSHELF_ANALYSISFORECAST_PHY_004_013/cmems_mod_nws_phy_anfc_0.027deg-2D_PT15M-i_202309/timeChunked.zarr\n",
      "      2 arco-time-series https://s3.waw3-1.cloudferro.com/mdl-arco-geo-041/arco/NWSHELF_ANALYSISFORECAST_PHY_004_013/cmems_mod_nws_phy_anfc_0.027deg-2D_PT15M-i_202309/geoChunked.zarr\n",
      "dataset_id cmems_mod_nws_phy_anfc_0.027deg-2D_PT1H-m {}\n",
      "versions['label'] 202309\n",
      "parts['name','retired-date'] default None\n",
      "      0 original-files https://s3.waw3-1.cloudferro.com/mdl-native-13/native/NWSHELF_ANALYSISFORECAST_PHY_004_013/cmems_mod_nws_phy_anfc_0.027deg-2D_PT1H-m_202309\n",
      "      1 arco-geo-series https://s3.waw3-1.cloudferro.com/mdl-arco-time-041/arco/NWSHELF_ANALYSISFORECAST_PHY_004_013/cmems_mod_nws_phy_anfc_0.027deg-2D_PT1H-m_202309/timeChunked.zarr\n",
      "      2 arco-time-series https://s3.waw3-1.cloudferro.com/mdl-arco-geo-041/arco/NWSHELF_ANALYSISFORECAST_PHY_004_013/cmems_mod_nws_phy_anfc_0.027deg-2D_PT1H-m_202309/geoChunked.zarr\n",
      "dataset_id cmems_mod_nws_phy_anfc_0.027deg-3D_P1D-m {}\n",
      "versions['label'] 202309\n",
      "parts['name','retired-date'] default None\n",
      "      0 original-files https://s3.waw3-1.cloudferro.com/mdl-native-13/native/NWSHELF_ANALYSISFORECAST_PHY_004_013/cmems_mod_nws_phy_anfc_0.027deg-3D_P1D-m_202309\n",
      "      1 arco-geo-series https://s3.waw3-1.cloudferro.com/mdl-arco-time-041/arco/NWSHELF_ANALYSISFORECAST_PHY_004_013/cmems_mod_nws_phy_anfc_0.027deg-3D_P1D-m_202309/timeChunked.zarr\n",
      "      2 arco-time-series https://s3.waw3-1.cloudferro.com/mdl-arco-geo-041/arco/NWSHELF_ANALYSISFORECAST_PHY_004_013/cmems_mod_nws_phy_anfc_0.027deg-3D_P1D-m_202309/geoChunked.zarr\n",
      "dataset_id cmems_mod_nws_phy_anfc_0.027deg-3D_P1M-m {}\n",
      "versions['label'] 202309\n",
      "parts['name','retired-date'] default None\n",
      "      0 original-files https://s3.waw3-1.cloudferro.com/mdl-native-13/native/NWSHELF_ANALYSISFORECAST_PHY_004_013/cmems_mod_nws_phy_anfc_0.027deg-3D_P1M-m_202309\n",
      "      1 arco-geo-series https://s3.waw3-1.cloudferro.com/mdl-arco-time-041/arco/NWSHELF_ANALYSISFORECAST_PHY_004_013/cmems_mod_nws_phy_anfc_0.027deg-3D_P1M-m_202309/timeChunked.zarr\n",
      "      2 arco-time-series https://s3.waw3-1.cloudferro.com/mdl-arco-geo-041/arco/NWSHELF_ANALYSISFORECAST_PHY_004_013/cmems_mod_nws_phy_anfc_0.027deg-3D_P1M-m_202309/geoChunked.zarr\n",
      "dataset_id cmems_mod_nws_phy_anfc_0.027deg-3D_PT1H-m {}\n",
      "versions['label'] 202309\n",
      "parts['name','retired-date'] default None\n",
      "      0 original-files https://s3.waw3-1.cloudferro.com/mdl-native-13/native/NWSHELF_ANALYSISFORECAST_PHY_004_013/cmems_mod_nws_phy_anfc_0.027deg-3D_PT1H-m_202309\n",
      "      1 arco-geo-series https://s3.waw3-1.cloudferro.com/mdl-arco-time-041/arco/NWSHELF_ANALYSISFORECAST_PHY_004_013/cmems_mod_nws_phy_anfc_0.027deg-3D_PT1H-m_202309/timeChunked.zarr\n",
      "      2 arco-time-series https://s3.waw3-1.cloudferro.com/mdl-arco-geo-041/arco/NWSHELF_ANALYSISFORECAST_PHY_004_013/cmems_mod_nws_phy_anfc_0.027deg-3D_PT1H-m_202309/geoChunked.zarr\n",
      "dataset_id cmems_mod_nws_phy_anfc_0.027deg-3D_static {}\n",
      "versions['label'] 202309\n",
      "parts['name','retired-date'] bathy None\n",
      "      0 original-files https://s3.waw3-1.cloudferro.com/mdl-native-13/native/NWSHELF_ANALYSISFORECAST_PHY_004_013/cmems_mod_nws_phy_anfc_0.027deg-3D_static_202309/NWS-MFC_004_013_mask_bathy.nc\n",
      "      1 static-arco https://s3.waw3-1.cloudferro.com:443/mdl-arco-time-041/arco/NWSHELF_ANALYSISFORECAST_PHY_004_013/cmems_mod_nws_phy_anfc_0.027deg-3D_static_202309--ext--bathy/static.zarr\n",
      "parts['name','retired-date'] coords None\n",
      "      0 original-files https://s3.waw3-1.cloudferro.com/mdl-native-13/native/NWSHELF_ANALYSISFORECAST_PHY_004_013/cmems_mod_nws_phy_anfc_0.027deg-3D_static_202309/NWS-MFC_004_013_coordinates.nc\n",
      "      1 static-arco https://s3.waw3-1.cloudferro.com:443/mdl-arco-time-041/arco/NWSHELF_ANALYSISFORECAST_PHY_004_013/cmems_mod_nws_phy_anfc_0.027deg-3D_static_202309--ext--coords/static.zarr\n",
      "parts['name','retired-date'] mdt None\n",
      "      0 original-files https://s3.waw3-1.cloudferro.com/mdl-native-13/native/NWSHELF_ANALYSISFORECAST_PHY_004_013/cmems_mod_nws_phy_anfc_0.027deg-3D_static_202309/NWS-MFC_004_013_mdt.nc\n",
      "      1 static-arco https://s3.waw3-1.cloudferro.com:443/mdl-arco-time-041/arco/NWSHELF_ANALYSISFORECAST_PHY_004_013/cmems_mod_nws_phy_anfc_0.027deg-3D_static_202309--ext--mdt/static.zarr\n"
     ]
    }
   ],
   "source": [
    "uris={}\n",
    "for index, product in enumerate(catalogue['products']):\n",
    "    print(index, product['title'], product['product_id'])    \n",
    "    for value in catalogue['products'][index]['datasets']:\n",
    "        dataset_id = value['dataset_id']\n",
    "        uris[dataset_id]={}\n",
    "        print('dataset_id',dataset_id,uris[dataset_id])\n",
    "        for versions_id,versions in  enumerate(value['versions']):\n",
    "            print(\"versions['label']\",versions['label'],)\n",
    "            for parts_id, parts in  enumerate( versions['parts']):\n",
    "                print(\"parts['name','retired-date']\",parts['name'],parts['retired_date'],)\n",
    "                for service_id,service in  enumerate( parts['services']):\n",
    "                    service_name = service['service_type']['service_name']\n",
    "                    uris[dataset_id][service_name]=service['uri']\n",
    "                    print('     ',service_id,service_name,service['uri'])"
   ]
  },
  {
   "cell_type": "code",
   "execution_count": 4,
   "id": "3dda82f3-6adc-433c-8598-9fd2a24ab4dd",
   "metadata": {
    "scrolled": true
   },
   "outputs": [
    {
     "data": {
      "text/plain": [
       "{'cmems_mod_ibi_phy_anfc_0.027deg-2D_PT15M-i': {'original-files': 'https://s3.waw3-1.cloudferro.com/mdl-native-10/native/IBI_ANALYSISFORECAST_PHY_005_001/cmems_mod_ibi_phy_anfc_0.027deg-2D_PT15M-i_202211',\n",
       "  'arco-geo-series': 'https://s3.waw3-1.cloudferro.com/mdl-arco-time-032/arco/IBI_ANALYSISFORECAST_PHY_005_001/cmems_mod_ibi_phy_anfc_0.027deg-2D_PT15M-i_202211/timeChunked.zarr',\n",
       "  'arco-time-series': 'https://s3.waw3-1.cloudferro.com/mdl-arco-geo-032/arco/IBI_ANALYSISFORECAST_PHY_005_001/cmems_mod_ibi_phy_anfc_0.027deg-2D_PT15M-i_202211/geoChunked.zarr'},\n",
       " 'cmems_mod_ibi_phy_anfc_0.027deg-2D_PT1H-m': {'original-files': 'https://s3.waw3-1.cloudferro.com/mdl-native-10/native/IBI_ANALYSISFORECAST_PHY_005_001/cmems_mod_ibi_phy_anfc_0.027deg-2D_PT1H-m_202211',\n",
       "  'arco-geo-series': 'https://s3.waw3-1.cloudferro.com/mdl-arco-time-032/arco/IBI_ANALYSISFORECAST_PHY_005_001/cmems_mod_ibi_phy_anfc_0.027deg-2D_PT1H-m_202211/timeChunked.zarr',\n",
       "  'arco-time-series': 'https://s3.waw3-1.cloudferro.com/mdl-arco-geo-032/arco/IBI_ANALYSISFORECAST_PHY_005_001/cmems_mod_ibi_phy_anfc_0.027deg-2D_PT1H-m_202211/geoChunked.zarr'},\n",
       " 'cmems_mod_ibi_phy_anfc_0.027deg-3D_P1D-m': {'original-files': 'https://s3.waw3-1.cloudferro.com/mdl-native-10/native/IBI_ANALYSISFORECAST_PHY_005_001/cmems_mod_ibi_phy_anfc_0.027deg-3D_P1D-m_202211',\n",
       "  'arco-geo-series': 'https://s3.waw3-1.cloudferro.com/mdl-arco-time-032/arco/IBI_ANALYSISFORECAST_PHY_005_001/cmems_mod_ibi_phy_anfc_0.027deg-3D_P1D-m_202211/timeChunked.zarr',\n",
       "  'arco-time-series': 'https://s3.waw3-1.cloudferro.com/mdl-arco-geo-032/arco/IBI_ANALYSISFORECAST_PHY_005_001/cmems_mod_ibi_phy_anfc_0.027deg-3D_P1D-m_202211/geoChunked.zarr'},\n",
       " 'cmems_mod_ibi_phy_anfc_0.027deg-3D_P1M-m': {'original-files': 'https://s3.waw3-1.cloudferro.com/mdl-native-10/native/IBI_ANALYSISFORECAST_PHY_005_001/cmems_mod_ibi_phy_anfc_0.027deg-3D_P1M-m_202211',\n",
       "  'arco-geo-series': 'https://s3.waw3-1.cloudferro.com/mdl-arco-time-032/arco/IBI_ANALYSISFORECAST_PHY_005_001/cmems_mod_ibi_phy_anfc_0.027deg-3D_P1M-m_202211/timeChunked.zarr',\n",
       "  'arco-time-series': 'https://s3.waw3-1.cloudferro.com/mdl-arco-geo-032/arco/IBI_ANALYSISFORECAST_PHY_005_001/cmems_mod_ibi_phy_anfc_0.027deg-3D_P1M-m_202211/geoChunked.zarr'},\n",
       " 'cmems_mod_ibi_phy_anfc_0.027deg-3D_PT1H-m': {'original-files': 'https://s3.waw3-1.cloudferro.com/mdl-native-10/native/IBI_ANALYSISFORECAST_PHY_005_001/cmems_mod_ibi_phy_anfc_0.027deg-3D_PT1H-m_202211',\n",
       "  'arco-geo-series': 'https://s3.waw3-1.cloudferro.com/mdl-arco-time-032/arco/IBI_ANALYSISFORECAST_PHY_005_001/cmems_mod_ibi_phy_anfc_0.027deg-3D_PT1H-m_202211/timeChunked.zarr',\n",
       "  'arco-time-series': 'https://s3.waw3-1.cloudferro.com/mdl-arco-geo-032/arco/IBI_ANALYSISFORECAST_PHY_005_001/cmems_mod_ibi_phy_anfc_0.027deg-3D_PT1H-m_202211/geoChunked.zarr'},\n",
       " 'cmems_mod_ibi_phy_anfc_0.027deg-3D_static': {'original-files': 'https://s3.waw3-1.cloudferro.com/mdl-native-10/native/IBI_ANALYSISFORECAST_PHY_005_001/cmems_mod_ibi_phy_anfc_0.027deg-3D_static_202211/IBI-MFC_005_001_mdt.nc',\n",
       "  'static-arco': 'https://s3.waw3-1.cloudferro.com:443/mdl-arco-time-032/arco/IBI_ANALYSISFORECAST_PHY_005_001/cmems_mod_ibi_phy_anfc_0.027deg-3D_static_202211--ext--mdt/static.zarr'},\n",
       " 'cmems_mod_nws_phy_anfc_0.027deg-2D_PT15M-i': {'original-files': 'https://s3.waw3-1.cloudferro.com/mdl-native-13/native/NWSHELF_ANALYSISFORECAST_PHY_004_013/cmems_mod_nws_phy_anfc_0.027deg-2D_PT15M-i_202309',\n",
       "  'arco-geo-series': 'https://s3.waw3-1.cloudferro.com/mdl-arco-time-041/arco/NWSHELF_ANALYSISFORECAST_PHY_004_013/cmems_mod_nws_phy_anfc_0.027deg-2D_PT15M-i_202309/timeChunked.zarr',\n",
       "  'arco-time-series': 'https://s3.waw3-1.cloudferro.com/mdl-arco-geo-041/arco/NWSHELF_ANALYSISFORECAST_PHY_004_013/cmems_mod_nws_phy_anfc_0.027deg-2D_PT15M-i_202309/geoChunked.zarr'},\n",
       " 'cmems_mod_nws_phy_anfc_0.027deg-2D_PT1H-m': {'original-files': 'https://s3.waw3-1.cloudferro.com/mdl-native-13/native/NWSHELF_ANALYSISFORECAST_PHY_004_013/cmems_mod_nws_phy_anfc_0.027deg-2D_PT1H-m_202309',\n",
       "  'arco-geo-series': 'https://s3.waw3-1.cloudferro.com/mdl-arco-time-041/arco/NWSHELF_ANALYSISFORECAST_PHY_004_013/cmems_mod_nws_phy_anfc_0.027deg-2D_PT1H-m_202309/timeChunked.zarr',\n",
       "  'arco-time-series': 'https://s3.waw3-1.cloudferro.com/mdl-arco-geo-041/arco/NWSHELF_ANALYSISFORECAST_PHY_004_013/cmems_mod_nws_phy_anfc_0.027deg-2D_PT1H-m_202309/geoChunked.zarr'},\n",
       " 'cmems_mod_nws_phy_anfc_0.027deg-3D_P1D-m': {'original-files': 'https://s3.waw3-1.cloudferro.com/mdl-native-13/native/NWSHELF_ANALYSISFORECAST_PHY_004_013/cmems_mod_nws_phy_anfc_0.027deg-3D_P1D-m_202309',\n",
       "  'arco-geo-series': 'https://s3.waw3-1.cloudferro.com/mdl-arco-time-041/arco/NWSHELF_ANALYSISFORECAST_PHY_004_013/cmems_mod_nws_phy_anfc_0.027deg-3D_P1D-m_202309/timeChunked.zarr',\n",
       "  'arco-time-series': 'https://s3.waw3-1.cloudferro.com/mdl-arco-geo-041/arco/NWSHELF_ANALYSISFORECAST_PHY_004_013/cmems_mod_nws_phy_anfc_0.027deg-3D_P1D-m_202309/geoChunked.zarr'},\n",
       " 'cmems_mod_nws_phy_anfc_0.027deg-3D_P1M-m': {'original-files': 'https://s3.waw3-1.cloudferro.com/mdl-native-13/native/NWSHELF_ANALYSISFORECAST_PHY_004_013/cmems_mod_nws_phy_anfc_0.027deg-3D_P1M-m_202309',\n",
       "  'arco-geo-series': 'https://s3.waw3-1.cloudferro.com/mdl-arco-time-041/arco/NWSHELF_ANALYSISFORECAST_PHY_004_013/cmems_mod_nws_phy_anfc_0.027deg-3D_P1M-m_202309/timeChunked.zarr',\n",
       "  'arco-time-series': 'https://s3.waw3-1.cloudferro.com/mdl-arco-geo-041/arco/NWSHELF_ANALYSISFORECAST_PHY_004_013/cmems_mod_nws_phy_anfc_0.027deg-3D_P1M-m_202309/geoChunked.zarr'},\n",
       " 'cmems_mod_nws_phy_anfc_0.027deg-3D_PT1H-m': {'original-files': 'https://s3.waw3-1.cloudferro.com/mdl-native-13/native/NWSHELF_ANALYSISFORECAST_PHY_004_013/cmems_mod_nws_phy_anfc_0.027deg-3D_PT1H-m_202309',\n",
       "  'arco-geo-series': 'https://s3.waw3-1.cloudferro.com/mdl-arco-time-041/arco/NWSHELF_ANALYSISFORECAST_PHY_004_013/cmems_mod_nws_phy_anfc_0.027deg-3D_PT1H-m_202309/timeChunked.zarr',\n",
       "  'arco-time-series': 'https://s3.waw3-1.cloudferro.com/mdl-arco-geo-041/arco/NWSHELF_ANALYSISFORECAST_PHY_004_013/cmems_mod_nws_phy_anfc_0.027deg-3D_PT1H-m_202309/geoChunked.zarr'},\n",
       " 'cmems_mod_nws_phy_anfc_0.027deg-3D_static': {'original-files': 'https://s3.waw3-1.cloudferro.com/mdl-native-13/native/NWSHELF_ANALYSISFORECAST_PHY_004_013/cmems_mod_nws_phy_anfc_0.027deg-3D_static_202309/NWS-MFC_004_013_mdt.nc',\n",
       "  'static-arco': 'https://s3.waw3-1.cloudferro.com:443/mdl-arco-time-041/arco/NWSHELF_ANALYSISFORECAST_PHY_004_013/cmems_mod_nws_phy_anfc_0.027deg-3D_static_202309--ext--mdt/static.zarr'}}"
      ]
     },
     "execution_count": 4,
     "metadata": {},
     "output_type": "execute_result"
    }
   ],
   "source": [
    "uris"
   ]
  },
  {
   "cell_type": "markdown",
   "id": "064bc30c-1055-43cc-93c2-cb51b1ed0798",
   "metadata": {},
   "source": [
    "## Get available netcdf file list"
   ]
  },
  {
   "cell_type": "code",
   "execution_count": 5,
   "id": "06b6960f-e259-41ac-b6d5-f0c9aa2f3143",
   "metadata": {},
   "outputs": [
    {
     "name": "stderr",
     "output_type": "stream",
     "text": [
      "Fetching catalog: 100%|██████████| 3/3 [00:18<00:00,  6.06s/it]"
     ]
    },
    {
     "name": "stdout",
     "output_type": "stream",
     "text": [
      "INFO - 2024-04-08T10:20:29Z - Dataset version was not specified, the latest one was selected: \"202211\"\n",
      "INFO - 2024-04-08T10:20:29Z - Dataset part was not specified, the first one was selected: \"default\"\n",
      "INFO - 2024-04-08T10:20:29Z - You forced selection of service: original-files\n",
      "INFO - 2024-04-08T10:20:29Z - Downloading using service original-files...\n"
     ]
    },
    {
     "name": "stderr",
     "output_type": "stream",
     "text": [
      "\n"
     ]
    },
    {
     "name": "stdout",
     "output_type": "stream",
     "text": [
      "INFO - 2024-04-08T10:20:30Z - The file list is written at csv_list/cmems_mod_ibi_phy_anfc_0.027deg-2D_PT1H-m_(1).txt\n"
     ]
    },
    {
     "name": "stderr",
     "output_type": "stream",
     "text": [
      "Fetching catalog: 100%|██████████| 3/3 [00:17<00:00,  5.71s/it]"
     ]
    },
    {
     "name": "stdout",
     "output_type": "stream",
     "text": [
      "INFO - 2024-04-08T10:20:47Z - Dataset version was not specified, the latest one was selected: \"202211\"\n",
      "INFO - 2024-04-08T10:20:47Z - Dataset part was not specified, the first one was selected: \"default\"\n",
      "INFO - 2024-04-08T10:20:47Z - You forced selection of service: original-files\n",
      "INFO - 2024-04-08T10:20:47Z - Downloading using service original-files...\n"
     ]
    },
    {
     "name": "stderr",
     "output_type": "stream",
     "text": [
      "\n"
     ]
    },
    {
     "name": "stdout",
     "output_type": "stream",
     "text": [
      "INFO - 2024-04-08T10:20:48Z - The file list is written at csv_list/cmems_mod_ibi_phy_anfc_0.027deg-3D_PT1H-m_(1).txt\n"
     ]
    },
    {
     "name": "stderr",
     "output_type": "stream",
     "text": [
      "Fetching catalog: 100%|██████████| 3/3 [00:16<00:00,  5.62s/it]"
     ]
    },
    {
     "name": "stdout",
     "output_type": "stream",
     "text": [
      "INFO - 2024-04-08T10:21:05Z - Dataset version was not specified, the latest one was selected: \"202309\"\n",
      "INFO - 2024-04-08T10:21:05Z - Dataset part was not specified, the first one was selected: \"default\"\n",
      "INFO - 2024-04-08T10:21:05Z - You forced selection of service: original-files\n",
      "INFO - 2024-04-08T10:21:05Z - Downloading using service original-files...\n"
     ]
    },
    {
     "name": "stderr",
     "output_type": "stream",
     "text": [
      "\n"
     ]
    },
    {
     "name": "stdout",
     "output_type": "stream",
     "text": [
      "INFO - 2024-04-08T10:21:06Z - The file list is written at csv_list/cmems_mod_nws_phy_anfc_0.027deg-2D_PT1H-m_(1).txt\n"
     ]
    },
    {
     "name": "stderr",
     "output_type": "stream",
     "text": [
      "Fetching catalog: 100%|██████████| 3/3 [00:16<00:00,  5.55s/it]"
     ]
    },
    {
     "name": "stdout",
     "output_type": "stream",
     "text": [
      "INFO - 2024-04-08T10:21:23Z - Dataset version was not specified, the latest one was selected: \"202309\"\n",
      "INFO - 2024-04-08T10:21:23Z - Dataset part was not specified, the first one was selected: \"default\"\n",
      "INFO - 2024-04-08T10:21:23Z - You forced selection of service: original-files\n",
      "INFO - 2024-04-08T10:21:23Z - Downloading using service original-files...\n"
     ]
    },
    {
     "name": "stderr",
     "output_type": "stream",
     "text": [
      "\n"
     ]
    },
    {
     "name": "stdout",
     "output_type": "stream",
     "text": [
      "INFO - 2024-04-08T10:21:24Z - The file list is written at csv_list/cmems_mod_nws_phy_anfc_0.027deg-3D_PT1H-m_(1).txt\n"
     ]
    }
   ],
   "source": [
    "for data_id in uris:\n",
    "    if 'static' in data_id  :  \n",
    "        continue  \n",
    "    if 'H' in data_id  : \n",
    "        copernicusmarine.get(create_file_list=('./csv_list/'+data_id+'.txt'),\n",
    "            dataset_id=data_id,\n",
    "            service=\"original-files\")\n",
    "\n",
    "    "
   ]
  },
  {
   "cell_type": "markdown",
   "id": "3303fd26-f1a9-44cb-8052-d36a0e158e74",
   "metadata": {},
   "source": [
    "Print "
   ]
  },
  {
   "cell_type": "code",
   "execution_count": 7,
   "id": "7d413a1a-62a2-43ee-9268-a3749404e1b6",
   "metadata": {},
   "outputs": [
    {
     "name": "stdout",
     "output_type": "stream",
     "text": [
      "cmems_mod_ibi_phy_anfc_0.027deg-2D_PT1H-m 0    s3://mdl-native-10/native/IBI_ANALYSISFORECAST_PHY_005_001/cmems_mod_ibi_phy_anfc_0.027deg-2D_PT1H-m_202211/2022/03/CMEMS_v6r1_IBI_PHY_NRT_NL_01hav_20220326_20220326_R20220411_AN04.nc\n",
      "Name: 0, dtype: object 2021-04-03T00:00:00.000000000 2021-04-03T00:00:00.000000000\n",
      "cmems_mod_ibi_phy_anfc_0.027deg-3D_PT1H-m 0    s3://mdl-native-10/native/IBI_ANALYSISFORECAST_PHY_005_001/cmems_mod_ibi_phy_anfc_0.027deg-3D_PT1H-m_202211/2024/03/CMEMS_v6r1_IBI_PHY_NRT_NL_01hav3D_20240331_20240331_R20240401_HC01.nc\n",
      "Name: 0, dtype: object 2023-03-30T00:00:00.000000000 2023-03-30T00:00:00.000000000\n",
      "cmems_mod_nws_phy_anfc_0.027deg-2D_PT1H-m 0    s3://mdl-native-13/native/NWSHELF_ANALYSISFORECAST_PHY_004_013/cmems_mod_nws_phy_anfc_0.027deg-2D_PT1H-m_202309/2022/03/CMEMS_v6r1_NWS_PHY_NRT_NL_01hav_20220326_20220326_R20220411_AN04.nc\n",
      "Name: 0, dtype: object 2021-09-01T00:00:00.000000000 2021-09-01T00:00:00.000000000\n",
      "cmems_mod_nws_phy_anfc_0.027deg-3D_PT1H-m 0    s3://mdl-native-13/native/NWSHELF_ANALYSISFORECAST_PHY_004_013/cmems_mod_nws_phy_anfc_0.027deg-3D_PT1H-m_202309/2023/07/CMEMS_v6r1_NWS_PHY_NRT_NL_01hav3D_20230702_20230702_R20230703_HC01.nc\n",
      "Name: 0, dtype: object 2023-07-02T00:00:00.000000000 2023-07-02T00:00:00.000000000\n"
     ]
    }
   ],
   "source": [
    "for data_id in uris:\n",
    "    if 'static' in data_id  :  \n",
    "        continue  \n",
    "    if 'H' in data_id  :       \n",
    "        df=pd.read_csv(('./csv_list/'+data_id+'.txt'),header=None)    \n",
    "        net=df.sort_values(by=df.columns[0]).iloc[0]\n",
    "        geo=((xr.open_dataset(\n",
    "            uris[data_id]['arco-geo-series']\n",
    "            ,engine='zarr')\n",
    "         .time[0]).data)\n",
    "        time=((xr.open_dataset(\n",
    "            uris[data_id]['arco-time-series']\n",
    "            ,engine='zarr')\n",
    "         .time[0]).data)\n",
    "        print(data_id,net,geo,time)"
   ]
  },
  {
   "cell_type": "code",
   "execution_count": null,
   "id": "66e0d665-3bd1-4737-b6cd-af697ef85aa1",
   "metadata": {},
   "outputs": [],
   "source": []
  }
 ],
 "metadata": {
  "kernelspec": {
   "display_name": "Python 3 (ipykernel)",
   "language": "python",
   "name": "python3"
  },
  "language_info": {
   "codemirror_mode": {
    "name": "ipython",
    "version": 3
   },
   "file_extension": ".py",
   "mimetype": "text/x-python",
   "name": "python",
   "nbconvert_exporter": "python",
   "pygments_lexer": "ipython3",
   "version": "3.11.7"
  }
 },
 "nbformat": 4,
 "nbformat_minor": 5
}
