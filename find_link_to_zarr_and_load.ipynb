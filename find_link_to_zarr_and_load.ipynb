{
 "cells": [
  {
   "cell_type": "code",
   "execution_count": null,
   "id": "86e5a787-c78e-40d9-8588-8f88a610bd41",
   "metadata": {
    "scrolled": true
   },
   "outputs": [],
   "source": [
    "!pip install copernicusmarine"
   ]
  },
  {
   "cell_type": "code",
   "execution_count": null,
   "id": "691fde29-6d7d-4099-a57c-71967494bda2",
   "metadata": {},
   "outputs": [],
   "source": [
    "from pprint import pprint\n",
    "import xarray as xr\n",
    "import copernicusmarine as copernicusmarine\n",
    "print(copernicusmarine.__version__)\n",
    "#only for the first time: \n",
    "#copernicusmarine.login() "
   ]
  },
  {
   "cell_type": "code",
   "execution_count": null,
   "id": "f9a4cde7-a86b-4e03-83fe-18346af5dc5a",
   "metadata": {},
   "outputs": [],
   "source": [
    "catalogue = copernicusmarine.describe(\n",
    "    include_datasets=True,\n",
    "#    contains = ['European North West Shelf - Ocean Physics '],\n",
    "#     contains = ['Atlantic-Iberian Biscay Irish- Ocean Physics']   \n",
    "#    contains = ['thetao']\n",
    "#\n",
    "    contains=['Ocean Physics']\n",
    ")\n",
    "for index, product in enumerate(catalogue['products']):\n",
    "    print(index, product['title'], product['product_id'])\n",
    "    \n",
    "    for index2, dataset in enumerate(product['datasets']):\n",
    "       # if 'dataset_id' in dataset and 'H' in dataset['dataset_id']:        \n",
    "        print(index,index2, 'dataset_id',dataset['dataset_id'], dataset['dataset_name'])"
   ]
  },
  {
   "cell_type": "code",
   "execution_count": null,
   "id": "14691cda-9ea0-4fbe-af9f-3793e76e7325",
   "metadata": {},
   "outputs": [],
   "source": [
    "catalogue['products'][0]['title']"
   ]
  },
  {
   "cell_type": "code",
   "execution_count": null,
   "id": "0d5e1abd-9c7d-4d37-a886-39911ce3d194",
   "metadata": {
    "scrolled": true
   },
   "outputs": [],
   "source": [
    "name='cmems_mod_ibi_phy_anfc_0.027deg'\n",
    "name='cmems_mod_nws_phy_anfc_0.027deg'\n",
    "\n",
    "catalogue = copernicusmarine.describe(\n",
    "    include_datasets=True,\n",
    "    contains = [name]\n",
    ")"
   ]
  },
  {
   "cell_type": "raw",
   "id": "1b2a71a8-5668-4233-a61e-3a4aa48ea20f",
   "metadata": {
    "scrolled": true
   },
   "source": [
    "catalogue['products'][0]['datasets']"
   ]
  },
  {
   "cell_type": "code",
   "execution_count": null,
   "id": "7e2ed21d-a7c7-4aaf-bfe6-e0f2ce2a6184",
   "metadata": {
    "scrolled": true
   },
   "outputs": [],
   "source": [
    "uris_by_key = {}  # Dictionary to store URIs by key\n",
    "def get_copernicus_data(name,format='arco-geo-series' ):\n",
    "    #format='arco-geo-series' or 'arco-time-series'\n",
    "    catalogue = copernicusmarine.describe(\n",
    "    include_datasets=True,\n",
    "    contains = [name],\n",
    "    )\n",
    "    for value in catalogue['products'][0]['datasets']:\n",
    "        dataset_id = value['dataset_id']\n",
    "        if any(substring in dataset_id for substring in ['static', '2D_PT1H-m', '3D_PT1H-m']):\n",
    "            uris = []\n",
    "            for service in value['versions'][0]['parts'][0]['services']:\n",
    "                service_name = service['service_type']['service_name']\n",
    "                if service_name in [format, 'static-arco']:\n",
    "                    uris.append(service['uri'])\n",
    "            uris_by_key[dataset_id] = uris\n",
    "#    bbox = {\"latitude\": [48, 49], \"longitude\": [-6, -4]} \n",
    "    #.sel(latitude=slice(*bbox[\"latitude\"]), longitude=slice(*bbox[\"longitude\"]))\n",
    "    thetao=(\n",
    "        xr.open_dataset(uris_by_key[name+'-3D_PT1H-m'][0],\n",
    "        engine='zarr',\n",
    "        chunks={})[['thetao']]\n",
    "    #.sel(latitude=slice(*bbox[\"latitude\"]), longitude=slice(*bbox[\"longitude\"]))\n",
    "    )\n",
    "    zos=(\n",
    "        xr.open_dataset(uris_by_key[name+'-2D_PT1H-m'][0],\n",
    "        engine='zarr',\n",
    "        chunks={}).zos\n",
    "         #.sel(latitude=slice(*bbox[\"latitude\"]), longitude=slice(*bbox[\"longitude\"]))\n",
    "        )\n",
    "    deptho=(\n",
    "        xr.open_dataset(uris_by_key[name+'-3D_static'][0],\n",
    "        engine='zarr',\n",
    "        chunks={}).deptho\n",
    "        #.sel(latitude=slice(*bbox[\"latitude\"]), longitude=slice(*bbox[\"longitude\"]))\n",
    "        )\n",
    "    mask=deptho.isnull()\n",
    "    print('zos min,max value',zos.shape,zos.latitude[0:2].data,zos.latitude[-3:-1].data)\n",
    "    print('deptho min,max value',deptho.shape,deptho.latitude[0:2].data,deptho.latitude[-3:-1].data)\n",
    "    print('thetao min,max value',thetao.thetao.shape,thetao.latitude[0:2].data,thetao.latitude[-3:-1].data)\n",
    "    ds=(\n",
    "        thetao.rename({\"thetao\": \"TEMP\"})\n",
    "        .assign(\n",
    "                {\n",
    "                    \"XE\": zos,\n",
    "                    \"H0\": (deptho\n",
    "                    ),\n",
    "                    \"mask\": (mask\n",
    "                    ),\n",
    "                }\n",
    "        )).rename({\"latitude\": \"lat\", \"longitude\": \"lon\", \"elevation\": \"depth\"})\n",
    "    return ds\n",
    "    "
   ]
  },
  {
   "cell_type": "markdown",
   "id": "45db2507-48a9-47c7-9126-e029a0969ecf",
   "metadata": {},
   "source": [
    "## name='cmems_mod_ibi_phy_anfc_0.027deg'\n",
    "check if not mix with u,v,t coordinate on zarr?\n",
    "compare with netcdf original file lat lon coordinate? \n",
    "only available from 2023-03-30, which does not corresopnds to the description.\n",
    "check for both zarr format the time availavility "
   ]
  },
  {
   "cell_type": "code",
   "execution_count": null,
   "id": "c6c6ff3f-3a74-4b06-9769-8c2308af3a58",
   "metadata": {},
   "outputs": [],
   "source": [
    "get_copernicus_data(name='cmems_mod_ibi_phy_anfc_0.027deg' )"
   ]
  },
  {
   "cell_type": "markdown",
   "id": "26bebe6a-2721-47db-8ff4-31f9304216cc",
   "metadata": {},
   "source": [
    "## name='cmems_mod_nws_phy_anfc_0.027deg'\n",
    "check if not mix with u,v,t coordinate on zarr?\n",
    "compare with netcdf original file lat lon coordinate? \n",
    "only available from 2023-07-02, which does not corresopnds to the description.\n",
    "check for both zarr format the time availavility \n",
    "verify if the data resolution is exactry same as what we have on datarmor\n"
   ]
  },
  {
   "cell_type": "code",
   "execution_count": null,
   "id": "0a7bdf81-c468-4ef1-b2a8-5640529046ad",
   "metadata": {},
   "outputs": [],
   "source": [
    "get_copernicus_data(name='cmems_mod_nws_phy_anfc_0.027deg' )\n"
   ]
  },
  {
   "cell_type": "raw",
   "id": "10b9738c-3f7f-4e76-959f-64f977925ade",
   "metadata": {},
   "source": [
    "def open_copernicus_catalog(cat, chunks=None):\n",
    "    \"\"\"assemble the given intake catalog into a dataset\n",
    "\n",
    "    .. warning::\n",
    "        This will only work for the catalog at https://data-taos.ifremer.fr/references/copernicus.yaml\n",
    "\n",
    "    Parameters\n",
    "    ----------\n",
    "    cat : intake.Catalog\n",
    "        The pre-opened intake catalog\n",
    "    chunks : mapping, optional\n",
    "        The initial chunk size. Should be multiples of the on-disk chunk sizes. By\n",
    "        default, the chunksizes are ``{\"lat\": -1, \"lon\": -1, \"depth\": 11, \"time\": 8}``\n",
    "\n",
    "    Returns\n",
    "    -------\n",
    "    ds : xarray.Dataset\n",
    "        The assembled dataset.\n",
    "    \"\"\"\n",
    "    if chunks is None:\n",
    "        chunks = {\"lat\": -1, \"lon\": -1, \"depth\": 11, \"time\": 8}\n",
    "\n",
    "    ds = (\n",
    "        cat.data(type=\"TEM\", chunks=chunks)\n",
    "        .to_dask()\n",
    "        .rename({\"thetao\": \"TEMP\"})\n",
    "        .get([\"TEMP\"])\n",
    "        .assign_coords({\"time\": lambda ds: ds[\"time\"].astype(\"datetime64[ns]\")})\n",
    "        .assign(\n",
    "            {\n",
    "                \"XE\": cat.data(type=\"SSH\", chunks=chunks).to_dask().get(\"zos\"),\n",
    "                \"H0\": (\n",
    "                    cat.data_tmp(type=\"mdt\", chunks=chunks)\n",
    "                    .to_dask()\n",
    "                    .get(\"deptho\")\n",
    "                    .rename({\"latitude\": \"lat\", \"longitude\": \"lon\"})\n",
    "                ),\n",
    "                \"mask\": (\n",
    "                    cat.data_tmp(type=\"mdt\", chunks=chunks)\n",
    "                    .to_dask()\n",
    "                    .get(\"mask\")\n",
    "                    .rename({\"latitude\": \"lat\", \"longitude\": \"lon\"})\n",
    "                ),\n",
    "            }\n",
    "        )\n",
    "        # TODO: figure out the definition of `depth` and if there are standard names for these\n",
    "        .assign(\n",
    "            {\n",
    "                \"dynamic_depth\": lambda ds: (ds[\"depth\"] + ds[\"XE\"]).assign_attrs(\n",
    "                    {\"units\": \"m\", \"positive\": \"down\"}\n",
    "                ),\n",
    "                \"dynamic_bathymetry\": lambda ds: (ds[\"H0\"] + ds[\"XE\"]).assign_attrs(\n",
    "                    {\"units\": \"m\", \"positive\": \"down\"}\n",
    "                ),\n",
    "            }\n",
    "        )\n",
    "        .pipe(broadcast_variables, {\"lat\": \"latitude\", \"lon\": \"longitude\"})\n",
    "    )\n",
    "\n",
    "    return ds"
   ]
  }
 ],
 "metadata": {
  "kernelspec": {
   "display_name": "Python 3 (ipykernel)",
   "language": "python",
   "name": "python3"
  },
  "language_info": {
   "codemirror_mode": {
    "name": "ipython",
    "version": 3
   },
   "file_extension": ".py",
   "mimetype": "text/x-python",
   "name": "python",
   "nbconvert_exporter": "python",
   "pygments_lexer": "ipython3",
   "version": "3.11.7"
  }
 },
 "nbformat": 4,
 "nbformat_minor": 5
}
