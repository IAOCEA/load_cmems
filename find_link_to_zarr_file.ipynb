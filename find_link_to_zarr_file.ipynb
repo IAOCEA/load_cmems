{
 "cells": [
  {
   "cell_type": "code",
   "execution_count": null,
   "id": "86e5a787-c78e-40d9-8588-8f88a610bd41",
   "metadata": {
    "scrolled": true
   },
   "outputs": [],
   "source": [
    "!pip install copernicusmarine"
   ]
  },
  {
   "cell_type": "code",
   "execution_count": null,
   "id": "691fde29-6d7d-4099-a57c-71967494bda2",
   "metadata": {},
   "outputs": [],
   "source": [
    "from pprint import pprint\n",
    "import xarray as xr\n",
    "import copernicusmarine as copernicusmarine\n",
    "print(copernicusmarine.__version__)\n",
    "#only for the first time: \n",
    "#copernicusmarine.login() "
   ]
  },
  {
   "cell_type": "code",
   "execution_count": null,
   "id": "50689c51-2a7d-4cb0-bd3a-1900c3c2bace",
   "metadata": {
    "scrolled": true
   },
   "outputs": [],
   "source": [
    "catalogue = copernicusmarine.describe(\n",
    "    include_datasets=True,\n",
    "#    contains = ['European North West Shelf - Ocean Physics '],\n",
    "#     contains = ['Atlantic-Iberian Biscay Irish- Ocean Physics']   \n",
    "    contains= ['IBI_ANALYSISFORECAST_PHY_005_001']\n",
    "#    contains = ['mld']\n",
    ")\n",
    "for index, product in enumerate(catalogue['products']):\n",
    "    print(index, product['title'], product['product_id'])\n",
    "    \n",
    "    for index2, dataset in enumerate(product['datasets']):\n",
    "       # if 'dataset_id' in dataset and 'H' in dataset['dataset_id']:        \n",
    "        print(index,index2, 'dataset_id',dataset['dataset_id'], dataset['dataset_name'])"
   ]
  },
  {
   "cell_type": "code",
   "execution_count": null,
   "id": "cda64c68-d071-49c1-a07e-b66710106bd9",
   "metadata": {},
   "outputs": [],
   "source": [
    "dict1"
   ]
  },
  {
   "cell_type": "code",
   "execution_count": null,
   "id": "cec9e9b0-086d-4d87-8950-617cd7d50efc",
   "metadata": {},
   "outputs": [],
   "source": [
    "dict1=catalogue['products'][0]['datasets']\n",
    "for ii in dict1:\n",
    "    dict2=ii['versions'][0]['parts'][0]['services']#['uri']\n",
    "    print(ii['dataset_id'],len(dict2))\n",
    "    for i in dict2:\n",
    "        #print(i)\n",
    "        print(i['service_type'])\n",
    "        print(i['uri'])"
   ]
  },
  {
   "cell_type": "code",
   "execution_count": null,
   "id": "b6c01778-1e70-4802-beeb-44335e95b36f",
   "metadata": {},
   "outputs": [],
   "source": []
  }
 ],
 "metadata": {
  "kernelspec": {
   "display_name": "Python 3 (ipykernel)",
   "language": "python",
   "name": "python3"
  },
  "language_info": {
   "codemirror_mode": {
    "name": "ipython",
    "version": 3
   },
   "file_extension": ".py",
   "mimetype": "text/x-python",
   "name": "python",
   "nbconvert_exporter": "python",
   "pygments_lexer": "ipython3",
   "version": "3.11.7"
  }
 },
 "nbformat": 4,
 "nbformat_minor": 5
}
